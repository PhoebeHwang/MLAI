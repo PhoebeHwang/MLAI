{
  "nbformat": 4,
  "nbformat_minor": 0,
  "metadata": {
    "colab": {
      "name": "wanted_pre_onboarding",
      "private_outputs": true,
      "provenance": [],
      "collapsed_sections": [],
      "authorship_tag": "ABX9TyNapHbFmc//qXGgKjxbC9ZR",
      "include_colab_link": true
    },
    "kernelspec": {
      "name": "python3",
      "display_name": "Python 3"
    },
    "language_info": {
      "name": "python"
    }
  },
  "cells": [
    {
      "cell_type": "markdown",
      "metadata": {
        "id": "view-in-github",
        "colab_type": "text"
      },
      "source": [
        "<a href=\"https://colab.research.google.com/github/PhoebeHwang/MLAI/blob/main/wanted_pre_onboarding.ipynb\" target=\"_parent\"><img src=\"https://colab.research.google.com/assets/colab-badge.svg\" alt=\"Open In Colab\"/></a>"
      ]
    },
    {
      "cell_type": "markdown",
      "source": [
        "문제1) Tokenizer 생성하기"
      ],
      "metadata": {
        "id": "EXVSwiEK0gRs"
      }
    },
    {
      "cell_type": "code",
      "execution_count": null,
      "metadata": {
        "id": "Z7UIV4yd0WRW"
      },
      "outputs": [],
      "source": [
        "from re import T\n",
        "class Tokenizer():\n",
        "  def __init__(self):\n",
        "    self.word_dict = {'oov': 0}\n",
        "    self.fit_checker = False\n",
        "  \n",
        "  def preprocessing(self, sequences):\n",
        "    result = []\n",
        "    \n",
        "    import re\n",
        "    for i in sequences:\n",
        "        output1 = i.lower()\n",
        "        output2 = re.sub(\"[^a-zA-Z0-9 ]\",\"\",output1)\n",
        "\n",
        "        result.append(output2.split())  \n",
        "\n",
        "    return result\n",
        "  \n",
        "  def fit(self, sequences):\n",
        "    self.fit_checker = False\n",
        "\n",
        "    tokens = self.preprocessing(sequences)\n",
        "    word_set = sum(tokens,[])\n",
        "    self.word_dict = {w:i for i, w in enumerate(word_set)}\n",
        "    self.word_dict['oov'] = 0\n",
        "\n",
        "    return self.word_dict\n",
        "\n",
        "    self.fit_checker = True\n",
        "  \n",
        "  def transform(self, sequences):\n",
        "    result = []\n",
        "    tokens = self.preprocessing(sequences)\n",
        "    #if self.fit_checker:\n",
        "    for w in tokens :\n",
        "        temp = []\n",
        "        for i in w :\n",
        "            try :\n",
        "                temp.append(self.word_dict[i])\n",
        "            except KeyError :\n",
        "                temp.append(self.word_dict['oov'])\n",
        "        result.append(temp)\n",
        "\n",
        "    return result\n",
        "    #else:\n",
        "      #raise Exception(\"Tokenizer instance is not fitted yet.\")\n",
        "\n",
        "\n",
        "  def fit_transform(self, sequences):\n",
        "    self.fit(sequences)\n",
        "    result = self.transform(sequences)\n",
        "    return result"
      ]
    },
    {
      "cell_type": "code",
      "source": [
        "a = Tokenizer()\n",
        "text = ['I go to school.', 'I LIKE pizza!']\n",
        "text2 = ['I hate you.', 'me too.']"
      ],
      "metadata": {
        "id": "zitJf5D11t8G"
      },
      "execution_count": null,
      "outputs": []
    },
    {
      "cell_type": "code",
      "source": [
        "a.preprocessing(text)"
      ],
      "metadata": {
        "id": "2-UyKzfma3Pj"
      },
      "execution_count": null,
      "outputs": []
    },
    {
      "cell_type": "code",
      "source": [
        "a.fit(text)"
      ],
      "metadata": {
        "id": "HJZKB9AteUYT"
      },
      "execution_count": null,
      "outputs": []
    },
    {
      "cell_type": "code",
      "source": [
        "a.transform(text)"
      ],
      "metadata": {
        "id": "mgFFNvBkjd7f"
      },
      "execution_count": null,
      "outputs": []
    },
    {
      "cell_type": "markdown",
      "source": [
        "문제2) TfidfVectorizer 생성하기"
      ],
      "metadata": {
        "id": "92FJYJPG02jO"
      }
    },
    {
      "cell_type": "code",
      "source": [
        "class TfidfVectorizer():\n",
        "\n",
        "  def __init__(self,tokenizer):\n",
        "    self.tokenizer = tokenizer\n",
        "    self.fit_checker = False\n",
        "  \n",
        "  def fit(self, sequences):\n",
        "    tokenized = self.tokenizer.fit_transform(sequences)\n",
        "    tokenized_word = self.tokenizer.preprocessing(sequences)\n",
        "    word_set = sum(tokenized_word,[])\n",
        "\n",
        "    import pandas as pd\n",
        "    from math import log\n",
        "    \n",
        "    #전체 문장수\n",
        "    n = len(sequences)\n",
        "    #특정문장d에서 특정단어 t의 등장횟수\n",
        "    def tf(d,t):\n",
        "        return d.count(t)\n",
        "    #df(d,t) : 특정 단어t가 등장한 문장d의 개수\n",
        "    #df(t)에 반비례하는 수\n",
        "    def idf(t):\n",
        "        df = 0\n",
        "        for d in tokenized_word:\n",
        "            df += t in d\n",
        "        return log(n/(df+1))\n",
        "\n",
        "    def tfidf(d,t):\n",
        "        return tf(d,t)*idf(t)\n",
        "\n",
        "    result = []\n",
        "\n",
        "    for j in range(len(word_set)):\n",
        "        t = word_set[j]\n",
        "        result.append(idf(t))\n",
        "\n",
        "    return result\n",
        "\n",
        "    self.fit_checker = True\n",
        "\n",
        "  def transform(self, sequences):\n",
        "    #if self.fit_checker:\n",
        "    tokenized = self.tokenizer.transform(sequences)\n",
        "    tokenized_word = self.tokenizer.preprocessing(sequences)\n",
        "    self.fit(sequences)\n",
        "\n",
        "    word_set = sum(tokenized_word,[])\n",
        "    word_set_list = set(word_set)\n",
        "    word_set_list = list(word_set_list)\n",
        "\n",
        "    import pandas as pd\n",
        "    from math import log\n",
        "\n",
        "    n = len(sequences)\n",
        "\n",
        "    def idf(t):\n",
        "        df = 0\n",
        "        for d in tokenized_word:\n",
        "            df += t in d\n",
        "        return log(n/(df+1))\n",
        "\n",
        "    #TF\n",
        "    result = []\n",
        "    result2 = []\n",
        "    \n",
        "    for i in range(n):\n",
        "        result.append([])\n",
        "        result2.append([])\n",
        "        d = tokenized_word[i]\n",
        "\n",
        "        for j in range(len(word_set_list)):\n",
        "            t = word_set_list[j]\n",
        "            result[-1].append(d.count(t))\n",
        "            result2[-1].append(d.count(t)*idf(t))\n",
        "            \n",
        "    tf_matrix = pd.DataFrame(result, columns = word_set_list)\n",
        "    tf_matrix.index = sequences\n",
        "\n",
        "    tfidf_matrix = pd.DataFrame(result2, columns = word_set_list)\n",
        "    tfidf_matrix.index = sequences\n",
        "\n",
        "    return tfidf_matrix\n",
        "\n",
        "    #TF-IDF\n",
        "\n",
        "    #else:\n",
        "        #raise Exception(\"TfidfVectorizer instance is not fitted yet.\")\n",
        "\n",
        "\n",
        "  def fit_transform(self, sequences):\n",
        "    self.fit(sequences)\n",
        "    return self.transform(sequences)"
      ],
      "metadata": {
        "id": "SYRVkLA00bi9"
      },
      "execution_count": null,
      "outputs": []
    },
    {
      "cell_type": "code",
      "source": [
        "sequences = ['I go to school.', 'I LIKE pizza!']\n",
        "b = TfidfVectorizer(Tokenizer())"
      ],
      "metadata": {
        "id": "OffS4_Z0XSUE"
      },
      "execution_count": null,
      "outputs": []
    },
    {
      "cell_type": "code",
      "source": [
        "b.fit(sequences)"
      ],
      "metadata": {
        "id": "y2blUwmobtcg"
      },
      "execution_count": null,
      "outputs": []
    },
    {
      "cell_type": "code",
      "source": [
        "b.transform(sequences)"
      ],
      "metadata": {
        "id": "fGsAKci-4FDN"
      },
      "execution_count": null,
      "outputs": []
    },
    {
      "cell_type": "code",
      "source": [
        ""
      ],
      "metadata": {
        "id": "SUOu9nQH89WQ"
      },
      "execution_count": null,
      "outputs": []
    }
  ]
}